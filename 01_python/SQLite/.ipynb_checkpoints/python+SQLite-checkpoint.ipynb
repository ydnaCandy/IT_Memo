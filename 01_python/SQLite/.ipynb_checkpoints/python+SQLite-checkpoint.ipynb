{
 "cells": [
  {
   "cell_type": "markdown",
   "id": "4fcb7647-4bb4-4969-99ae-c23d742896ac",
   "metadata": {},
   "source": [
    "# Python+SQlite"
   ]
  },
  {
   "cell_type": "code",
   "execution_count": 31,
   "id": "065822f5-89b7-4d89-820a-4a06f52385fe",
   "metadata": {},
   "outputs": [],
   "source": [
    "import pandas as pd\n",
    "import numpy as np\n",
    "import sqlite3\n",
    "import sys\n",
    "from pathlib import Path\n",
    "from contextlib import closing"
   ]
  },
  {
   "cell_type": "code",
   "execution_count": 32,
   "id": "a5823b03-7901-4bd7-b42d-e9668570fe61",
   "metadata": {},
   "outputs": [
    {
     "name": "stdout",
     "output_type": "stream",
     "text": [
      "python: sys.version_info(major=3, minor=7, micro=9, releaselevel='final', serial=0)\n",
      "pandas: 0.24.2\n",
      "numpy: 1.21.2\n"
     ]
    }
   ],
   "source": [
    "print(\"python:\",sys.version_info)\n",
    "print(\"pandas:\",pd.__version__)\n",
    "print(\"numpy:\",np.__version__)"
   ]
  },
  {
   "cell_type": "code",
   "execution_count": 33,
   "id": "a239f0fb-8ae1-43e2-a118-b6ed410b935e",
   "metadata": {},
   "outputs": [
    {
     "name": "stdout",
     "output_type": "stream",
     "text": [
      "3.32.3 2020-06-18 14:16:19 02c344aceaea0d177dd42e62c8541e3cab4a26c757ba33b3a31a43ccc7d4aapl\n"
     ]
    }
   ],
   "source": [
    "!sqlite3 --version"
   ]
  },
  {
   "cell_type": "markdown",
   "id": "804dced7-18f5-48ca-864a-a32e1a070c7d",
   "metadata": {},
   "source": [
    "## クラス化"
   ]
  },
  {
   "cell_type": "code",
   "execution_count": 34,
   "id": "f72ff923-abb9-4a1b-8cf6-72e862d72955",
   "metadata": {},
   "outputs": [],
   "source": [
    "class SqlExecuttionToSqlite:\n",
    "    \"\"\"\n",
    "    SQL execution class to Sqlite.\n",
    "    \"\"\"\n",
    "    def __init__(self,db_filepath):\n",
    "        \"\"\"\n",
    "        argument;\n",
    "            - db_filepath:sqlite file path\n",
    "        \"\"\"\n",
    "        self.db_name = db_filepath\n",
    "    \n",
    "    def create_sqlitefile(self):\n",
    "        \"\"\"\n",
    "        explanation;\n",
    "            Create a file if sqlite file does not exist.       \n",
    "        \"\"\"\n",
    "        try:\n",
    "            # コネクションの作成。ファイルがない場合は作成される\n",
    "            conn = sqlite3.connect(self.db_name)\n",
    "            # コネクションを閉じる\n",
    "            conn.close()\n",
    "        except sqlite3.Error as e:\n",
    "            print(e)\n",
    "            \n",
    "            \n",
    "    def execute_sql(self,mode,sql,data=None):\n",
    "        \"\"\"\n",
    "        explanation;\n",
    "            Function to execute sql.\n",
    "            Execute sql after specifying mode.\n",
    "        argument;\n",
    "            - mode:\n",
    "                select -> Returns header and value.\n",
    "                insert -> Separate the data you want to insert from the SQL frame.\n",
    "                others -> Assume a Create statement.\n",
    "            - sql:\n",
    "                The SQL to be executed.\n",
    "            - data:\n",
    "                Pass the data to be Inserted as a tuple type.\n",
    "                If there is more than one data, pass a list of tuple type data records.                \n",
    "            \n",
    "        \"\"\"        \n",
    "        try:\n",
    "            with closing(sqlite3.connect(self.db_name)) as conn:\n",
    "                cur = conn.cursor()\n",
    "                if mode==\"select\":\n",
    "                    cur.execute(sql)\n",
    "                    header = [description[0] for description in cur.description]\n",
    "                    values = cur.fetchall()\n",
    "                    return header,values\n",
    "                    \n",
    "                elif mode== \"insert\":\n",
    "                    if type(data) == tuple:\n",
    "                        cur.execute(sql,data)\n",
    "                    else:\n",
    "                        cur.executemany(sql,data)\n",
    "                        \n",
    "                    \n",
    "                else:\n",
    "                    # create table系を想定\n",
    "                    cur.execute(sql)\n",
    "                                \n",
    "                conn.commit()\n",
    "        except sqlite3.Error as e:\n",
    "            print(e)"
   ]
  },
  {
   "cell_type": "code",
   "execution_count": 35,
   "id": "e36163ac-9f5a-433b-87b1-e0ea6d1f58ee",
   "metadata": {},
   "outputs": [],
   "source": [
    "db_dir = r\"./output/\"\n",
    "db_name = \"test.sqlite\"\n",
    "db_path = Path(db_dir, db_name)"
   ]
  },
  {
   "cell_type": "code",
   "execution_count": 36,
   "id": "05dd2950-3662-4236-9aa5-ea4a2890263d",
   "metadata": {},
   "outputs": [],
   "source": [
    "# インスタンスの作成\n",
    "exe = SqlExecuttionToSqlite(db_path)"
   ]
  },
  {
   "cell_type": "code",
   "execution_count": 37,
   "id": "e8a36752-da0a-42c0-a3ca-3f259a0c1000",
   "metadata": {},
   "outputs": [],
   "source": [
    "# ファイルの作成\n",
    "exe.create_sqlitefile()"
   ]
  },
  {
   "cell_type": "code",
   "execution_count": 38,
   "id": "a96da3d2-5a5b-4014-b3de-4a6f9b634944",
   "metadata": {},
   "outputs": [
    {
     "name": "stdout",
     "output_type": "stream",
     "text": [
      "table test_table already exists\n"
     ]
    }
   ],
   "source": [
    "# テーブルを作成\n",
    "sql = \"\"\"\n",
    "CREATE TABLE test_table(\n",
    "    id int, \n",
    "    title varchar(20),\n",
    "    body varchar(20)\n",
    ")\n",
    ";\n",
    "\"\"\"\n",
    "exe.execute_sql(mode=\"create\",sql=sql)"
   ]
  },
  {
   "cell_type": "code",
   "execution_count": 39,
   "id": "111f697b-001d-4a22-a41e-7b868c97a92a",
   "metadata": {},
   "outputs": [],
   "source": [
    "# データの挿入\n",
    "sql= \"\"\"\n",
    "INSERT into test_table\n",
    "    (id, title, body)\n",
    "values\n",
    "    (?,?,?)\n",
    ";\n",
    "\"\"\"\n",
    "data = (2,\"test\",\"aaa\")\n",
    "exe.execute_sql(mode=\"insert\",sql=sql,data=data)"
   ]
  },
  {
   "cell_type": "code",
   "execution_count": 40,
   "id": "3ee27b44-0afb-45fa-9561-d847e9365f46",
   "metadata": {},
   "outputs": [],
   "source": [
    "# テーブルデータの内容取得\n",
    "sql= \"\"\"\n",
    "SELECT\n",
    "    *\n",
    "FROM\n",
    "    test_table\n",
    ";\n",
    "\"\"\"\n",
    "cols,values = exe.execute_sql(mode=\"select\",sql=sql)"
   ]
  },
  {
   "cell_type": "code",
   "execution_count": 41,
   "id": "c344d914-143f-43cd-8088-98e7268b031e",
   "metadata": {},
   "outputs": [
    {
     "data": {
      "text/plain": [
       "['id', 'title', 'body']"
      ]
     },
     "execution_count": 41,
     "metadata": {},
     "output_type": "execute_result"
    }
   ],
   "source": [
    "cols"
   ]
  },
  {
   "cell_type": "code",
   "execution_count": 42,
   "id": "2ff69501-1260-470c-8dc8-916801e20dcb",
   "metadata": {},
   "outputs": [
    {
     "data": {
      "text/plain": [
       "[(2, 'test', 'aaa'),\n",
       " (2, 'test', 'aaa'),\n",
       " (2, 'test', 'aaa'),\n",
       " (2, 'test', 'aaa'),\n",
       " (2, 'test', 'aaa')]"
      ]
     },
     "execution_count": 42,
     "metadata": {},
     "output_type": "execute_result"
    }
   ],
   "source": [
    "values"
   ]
  },
  {
   "cell_type": "code",
   "execution_count": null,
   "id": "902286a5-2f22-44b6-a36d-6144c265bbd2",
   "metadata": {},
   "outputs": [],
   "source": []
  }
 ],
 "metadata": {
  "kernelspec": {
   "display_name": "Python 3 (ipykernel)",
   "language": "python",
   "name": "python3"
  },
  "language_info": {
   "codemirror_mode": {
    "name": "ipython",
    "version": 3
   },
   "file_extension": ".py",
   "mimetype": "text/x-python",
   "name": "python",
   "nbconvert_exporter": "python",
   "pygments_lexer": "ipython3",
   "version": "3.7.9"
  }
 },
 "nbformat": 4,
 "nbformat_minor": 5
}
