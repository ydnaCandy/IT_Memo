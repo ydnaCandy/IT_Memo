{
 "cells": [
  {
   "cell_type": "code",
   "execution_count": 1,
   "metadata": {},
   "outputs": [],
   "source": [
    "import datetime"
   ]
  },
  {
   "cell_type": "code",
   "execution_count": 2,
   "metadata": {},
   "outputs": [],
   "source": [
    "# 今日の日付\n",
    "today = datetime.date.today()\n",
    "\n",
    "# 曜日との差分を取得\n",
    "this_week_mon = 0 - today.weekday()\n",
    "this_week_tue= 1 - today.weekday()\n",
    "this_week_wen = 2 - today.weekday()\n",
    "this_week_thu = 3 - today.weekday()\n",
    "this_week_fri = 4 - today.weekday()\n",
    "this_week_sat = 5 - today.weekday()\n",
    "this_week_sun = 6 - today.weekday()\n",
    "\n",
    "# 日にちを特定\n",
    "this_mon_date = today + datetime.timedelta(days=this_week_mon)\n",
    "this_tue_date = today + datetime.timedelta(days=this_week_tue)\n",
    "this_wen_date = today + datetime.timedelta(days=this_week_wen)\n",
    "this_thu_date = today + datetime.timedelta(days=this_week_thu)\n",
    "this_fri_date = today + datetime.timedelta(days=this_week_fri)\n",
    "this_sat_date = today + datetime.timedelta(days=this_week_sat)\n",
    "this_sun_date = today + datetime.timedelta(days=this_week_sun)\n",
    "\n",
    "# 文字列\n",
    "this_mon_date_str = this_mon_date.strftime(\"%Y-%m-%d\")\n",
    "this_tue_date_str = this_tue_date.strftime(\"%Y-%m-%d\")\n",
    "this_wen_date_str = this_wen_date.strftime(\"%Y-%m-%d\")\n",
    "this_thu_date_str = this_thu_date.strftime(\"%Y-%m-%d\")\n",
    "this_fri_date_str = this_fri_date.strftime(\"%Y-%m-%d\")\n",
    "this_sat_date_str = this_sat_date.strftime(\"%Y-%m-%d\")\n",
    "this_sun_date_str = this_sun_date.strftime(\"%Y-%m-%d\")"
   ]
  },
  {
   "cell_type": "code",
   "execution_count": 3,
   "metadata": {},
   "outputs": [
    {
     "data": {
      "text/plain": [
       "(datetime.date(2024, 1, 15),\n",
       " datetime.date(2024, 1, 16),\n",
       " datetime.date(2024, 1, 17),\n",
       " datetime.date(2024, 1, 18),\n",
       " datetime.date(2024, 1, 19),\n",
       " datetime.date(2024, 1, 20),\n",
       " datetime.date(2024, 1, 21))"
      ]
     },
     "execution_count": 3,
     "metadata": {},
     "output_type": "execute_result"
    }
   ],
   "source": [
    "this_mon_date,this_tue_date,this_wen_date,this_thu_date,this_fri_date,this_sat_date,this_sun_date"
   ]
  },
  {
   "cell_type": "code",
   "execution_count": 4,
   "metadata": {},
   "outputs": [
    {
     "data": {
      "text/plain": [
       "('2024-01-15',\n",
       " '2024-01-16',\n",
       " '2024-01-17',\n",
       " '2024-01-18',\n",
       " '2024-01-19',\n",
       " '2024-01-20',\n",
       " '2024-01-21')"
      ]
     },
     "execution_count": 4,
     "metadata": {},
     "output_type": "execute_result"
    }
   ],
   "source": [
    "this_mon_date_str,this_tue_date_str,this_wen_date_str,this_thu_date_str,this_fri_date_str,this_sat_date_str,this_sun_date_str"
   ]
  },
  {
   "cell_type": "code",
   "execution_count": 15,
   "metadata": {},
   "outputs": [],
   "source": [
    "def get_firstday_week(day_dt=datetime.date.today(),mode=\"sun\") -> str:\n",
    "    \"\"\"\n",
    "    - 指定日の週の開始日を文字列(yyyy-mm-dd)で返す\n",
    "    - modeを\"mon\"に変更すると週の開始日を月曜日に変更できます。\n",
    "    \"\"\"\n",
    "    # 曜日との差分を取得\n",
    "    _weekday_first = 0 - day_dt.weekday()\n",
    "\n",
    "    # 日にちに変換\n",
    "    if _weekday_first == -6:\n",
    "        _mon_fist_date = day_dt\n",
    "    elif mode == \"sun\":\n",
    "        _mon_fist_date = day_dt + datetime.timedelta(days=_weekday_first-1)\n",
    "    elif mode == \"\":\n",
    "        _mon_fist_date = day_dt + datetime.timedelta(days=_weekday_first)\n",
    "\n",
    "    return _mon_fist_date.strftime(\"%Y-%m-%d\")"
   ]
  },
  {
   "cell_type": "code",
   "execution_count": 16,
   "metadata": {},
   "outputs": [
    {
     "data": {
      "text/plain": [
       "'2024-01-21'"
      ]
     },
     "execution_count": 16,
     "metadata": {},
     "output_type": "execute_result"
    }
   ],
   "source": [
    "get_firstday_week()"
   ]
  },
  {
   "cell_type": "code",
   "execution_count": 12,
   "metadata": {},
   "outputs": [
    {
     "data": {
      "text/plain": [
       "6"
      ]
     },
     "execution_count": 12,
     "metadata": {},
     "output_type": "execute_result"
    }
   ],
   "source": [
    "datetime.date.today().weekday()"
   ]
  }
 ],
 "metadata": {
  "kernelspec": {
   "display_name": "Python 3",
   "language": "python",
   "name": "python3"
  },
  "language_info": {
   "codemirror_mode": {
    "name": "ipython",
    "version": 3
   },
   "file_extension": ".py",
   "mimetype": "text/x-python",
   "name": "python",
   "nbconvert_exporter": "python",
   "pygments_lexer": "ipython3",
   "version": "3.8.5"
  }
 },
 "nbformat": 4,
 "nbformat_minor": 2
}
