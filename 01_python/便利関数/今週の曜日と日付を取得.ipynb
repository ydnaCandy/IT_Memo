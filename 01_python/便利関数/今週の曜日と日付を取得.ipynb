{
 "cells": [
  {
   "cell_type": "code",
   "execution_count": 6,
   "metadata": {},
   "outputs": [],
   "source": [
    "import datetime"
   ]
  },
  {
   "cell_type": "code",
   "execution_count": 23,
   "metadata": {},
   "outputs": [],
   "source": [
    "import datetime\n",
    "\n",
    "# 今日の日付\n",
    "today = datetime.date.today()\n",
    "\n",
    "# 曜日との差分を取得\n",
    "this_week_mon = 0 - today.weekday()\n",
    "this_week_tue= 1 - today.weekday()\n",
    "this_week_wen = 2 - today.weekday()\n",
    "this_week_thu = 3 - today.weekday()\n",
    "this_week_fri = 4 - today.weekday()\n",
    "this_week_sat = 5 - today.weekday()\n",
    "this_week_sun = 6 - today.weekday()\n",
    "\n",
    "# 日にちを特定\n",
    "this_mon_date = today + datetime.timedelta(days=this_week_mon)\n",
    "this_tue_date = today + datetime.timedelta(days=this_week_tue)\n",
    "this_wen_date = today + datetime.timedelta(days=this_week_wen)\n",
    "this_thu_date = today + datetime.timedelta(days=this_week_thu)\n",
    "this_fri_date = today + datetime.timedelta(days=this_week_fri)\n",
    "this_sat_date = today + datetime.timedelta(days=this_week_sat)\n",
    "this_sun_date = today + datetime.timedelta(days=this_week_sun)\n",
    "\n",
    "# 文字列\n",
    "this_mon_date_str = this_mon_date.strftime(\"%Y-%m-%d\")\n",
    "this_tue_date_str = this_tue_date.strftime(\"%Y-%m-%d\")\n",
    "this_wen_date_str = this_wen_date.strftime(\"%Y-%m-%d\")\n",
    "this_thu_date_str = this_thu_date.strftime(\"%Y-%m-%d\")\n",
    "this_fri_date_str = this_fri_date.strftime(\"%Y-%m-%d\")\n",
    "this_sat_date_str = this_sat_date.strftime(\"%Y-%m-%d\")\n",
    "this_sun_date_str = this_sun_date.strftime(\"%Y-%m-%d\")"
   ]
  },
  {
   "cell_type": "code",
   "execution_count": 26,
   "metadata": {},
   "outputs": [
    {
     "data": {
      "text/plain": [
       "(datetime.date(2024, 1, 15),\n",
       " datetime.date(2024, 1, 16),\n",
       " datetime.date(2024, 1, 17),\n",
       " datetime.date(2024, 1, 18),\n",
       " datetime.date(2024, 1, 19),\n",
       " datetime.date(2024, 1, 20),\n",
       " datetime.date(2024, 1, 21))"
      ]
     },
     "execution_count": 26,
     "metadata": {},
     "output_type": "execute_result"
    }
   ],
   "source": [
    "this_mon_date,this_tue_date,this_wen_date,this_thu_date,this_fri_date,this_sat_date,this_sun_date"
   ]
  },
  {
   "cell_type": "code",
   "execution_count": 27,
   "metadata": {},
   "outputs": [
    {
     "data": {
      "text/plain": [
       "('2024-01-15',\n",
       " '2024-01-16',\n",
       " '2024-01-17',\n",
       " '2024-01-18',\n",
       " '2024-01-19',\n",
       " '2024-01-20',\n",
       " '2024-01-21')"
      ]
     },
     "execution_count": 27,
     "metadata": {},
     "output_type": "execute_result"
    }
   ],
   "source": [
    "this_mon_date_str,this_tue_date_str,this_wen_date_str,this_thu_date_str,this_fri_date_str,this_sat_date_str,this_sun_date_str"
   ]
  },
  {
   "cell_type": "code",
   "execution_count": null,
   "metadata": {},
   "outputs": [],
   "source": []
  }
 ],
 "metadata": {
  "kernelspec": {
   "display_name": "Python 3",
   "language": "python",
   "name": "python3"
  },
  "language_info": {
   "codemirror_mode": {
    "name": "ipython",
    "version": 3
   },
   "file_extension": ".py",
   "mimetype": "text/x-python",
   "name": "python",
   "nbconvert_exporter": "python",
   "pygments_lexer": "ipython3",
   "version": "3.8.5"
  }
 },
 "nbformat": 4,
 "nbformat_minor": 2
}
