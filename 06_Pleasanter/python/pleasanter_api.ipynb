{
 "cells": [
  {
   "cell_type": "code",
   "execution_count": 23,
   "metadata": {},
   "outputs": [],
   "source": [
    "import requests\n",
    "import json\n",
    "from typing import Tuple"
   ]
  },
  {
   "cell_type": "code",
   "execution_count": 18,
   "metadata": {},
   "outputs": [],
   "source": [
    "with open('./conf/pleasanter_conf.json') as f:\n",
    "    conf_dict:dict = json.load(f)"
   ]
  },
  {
   "cell_type": "code",
   "execution_count": 19,
   "metadata": {},
   "outputs": [],
   "source": [
    "api_key = conf_dict[\"APIKEY\"]"
   ]
  },
  {
   "cell_type": "code",
   "execution_count": 20,
   "metadata": {},
   "outputs": [],
   "source": [
    "base_url:str = \"http://192.168.3.100:23500/\"\n",
    "api_url:str = base_url + \"api/items/\"\n",
    "site_id:str = str(2)"
   ]
  },
  {
   "cell_type": "code",
   "execution_count": 25,
   "metadata": {},
   "outputs": [],
   "source": [
    "def get_record(api_url,api_key,record_id) -> Tuple[bool,dict]:\n",
    "    \"\"\"単一レコード取得\"\"\"\n",
    "    get_url:str = api_url + str(2) + \"/get\"\n",
    "    payload:dict = {\n",
    "        \"ApiKey\": api_key\n",
    "    }\n",
    "\n",
    "    pleasanter_post = requests.post(\n",
    "        get_url, \n",
    "        data=json.dumps(payload), \n",
    "        headers={'Content-Type': 'application/json', 'charset': 'UTF-8'}\n",
    "    )\n",
    "    print(type(pleasanter_post))\n",
    "\n",
    "    # レスポンスのステータスコードを返す\n",
    "    if pleasanter_post.status_code != 200:\n",
    "        msg:dict = {\n",
    "            \"Error\":\"Request Error\",\n",
    "            \"ResponseMessage\":str(pleasanter_post)\n",
    "        }\n",
    "        return (False,msg)\n",
    "\n",
    "    # レスポンスを辞書型に変換\n",
    "    result = pleasanter_post.json()\n",
    "    data:dict = result['Response']['Data'][0]\n",
    "\n",
    "    if result['StatusCode'] == 200:\n",
    "        return (True,data)\n",
    "    else:\n",
    "        msg:dict = {\n",
    "            \"Error\":\"Response Error\",\n",
    "            \"ResponseMessage\":str(pleasanter_post)\n",
    "        }\n",
    "        return (False,msg)\n"
   ]
  },
  {
   "cell_type": "code",
   "execution_count": 26,
   "metadata": {},
   "outputs": [
    {
     "name": "stdout",
     "output_type": "stream",
     "text": [
      "<class 'requests.models.Response'>\n"
     ]
    },
    {
     "data": {
      "text/plain": [
       "(True,\n",
       " {'SiteId': 2,\n",
       "  'UpdatedTime': '2024-06-10T22:43:31',\n",
       "  'ResultId': 3,\n",
       "  'Ver': 1,\n",
       "  'Title': 'お掃除をする',\n",
       "  'Body': '',\n",
       "  'Status': 100,\n",
       "  'Manager': 2,\n",
       "  'Owner': 2,\n",
       "  'Locked': False,\n",
       "  'Comments': '[]',\n",
       "  'Creator': 2,\n",
       "  'Updator': 2,\n",
       "  'CreatedTime': '2024-06-10T22:43:31',\n",
       "  'ItemTitle': 'お掃除をする',\n",
       "  'ApiVersion': 1.1,\n",
       "  'ClassHash': {'ClassA': '課題'},\n",
       "  'NumHash': {'NumA': 100.0},\n",
       "  'DateHash': {'DateA': '2024-06-10T00:00:00'},\n",
       "  'DescriptionHash': {},\n",
       "  'CheckHash': {'CheckA': False},\n",
       "  'AttachmentsHash': {}})"
      ]
     },
     "execution_count": 26,
     "metadata": {},
     "output_type": "execute_result"
    }
   ],
   "source": [
    "get_record(api_url=api_url,api_key=api_key,record_id=3)"
   ]
  },
  {
   "cell_type": "code",
   "execution_count": null,
   "metadata": {},
   "outputs": [],
   "source": []
  }
 ],
 "metadata": {
  "kernelspec": {
   "display_name": "Python 3",
   "language": "python",
   "name": "python3"
  },
  "language_info": {
   "codemirror_mode": {
    "name": "ipython",
    "version": 3
   },
   "file_extension": ".py",
   "mimetype": "text/x-python",
   "name": "python",
   "nbconvert_exporter": "python",
   "pygments_lexer": "ipython3",
   "version": "3.8.5"
  }
 },
 "nbformat": 4,
 "nbformat_minor": 2
}
